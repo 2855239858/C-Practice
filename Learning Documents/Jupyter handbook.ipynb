{
 "cells": [
  {
   "cell_type": "markdown",
   "id": "2eeaa431",
   "metadata": {},
   "source": [
    "# Jupyter handbook"
   ]
  },
  {
   "cell_type": "markdown",
   "id": "76a75dba",
   "metadata": {},
   "source": [
    "## 1. Word style\n",
    "\n",
    "> Cite (> Cite)\n",
    "\n",
    "_This is italic_ (_This is italic_)\n",
    "\n",
    "__This is bold__ (__This is bold__)\n",
    "\n",
    "___This is bold and italic___(___This is bold and italic___)\n",
    "\n",
    "~~delete~~ (~~delete~~)\n",
    "\n",
    "<u>Under line</u>"
   ]
  },
  {
   "cell_type": "markdown",
   "id": "ffff8087",
   "metadata": {},
   "source": [
    "## 2. Simple list\n",
    "\n",
    "Disorder list: +, -, *\n",
    "+ line 1\n",
    "- line 2\n",
    "* line 3\n",
    "\n",
    "Order list: number and .\n",
    "1. line 1\n",
    "2. line 2\n",
    "3. line 3"
   ]
  },
  {
   "cell_type": "markdown",
   "id": "ade54741",
   "metadata": {},
   "source": [
    "## 3. Link to you want\n",
    "1. Link: [line name](url)\n",
    "\n",
    "[Baidu web](www.baidu.com)\n",
    "\n",
    "2. Link a picture, same as link web. \"!\" in the head means display picture, or fold the picture:\n",
    "\n",
    "[A picture](pictures/crycat.png)\n",
    "![A picture](pictures/crycat.png)\n",
    "\n",
    "3. With modified size of picture: __<__ img src = \"path/to/picture\" width = xx height = xx __>__\n",
    "\n",
    "<img src = \"./pictures/crycat.png\" width = 20 height = 20>\n",
    "\n",
    "Link vedios: __<__ iframe width=\"560\" height=\"315\" src=\"https://www.youtube.com/embed/1eTj_TGJMvw\" frameborder=\"0\" allowfullscreen></iframe __>__\n",
    "\n",
    "<iframe width=\"560\" height=\"315\" src=\"./pictures/dingzhen.flv\" frameborder=\"0\" allowfullscreen></iframe>"
   ]
  },
  {
   "cell_type": "markdown",
   "id": "35409ad4",
   "metadata": {},
   "source": [
    "## 4. Create a form\n",
    "\n",
    "| This | is  |  a  | form |\n",
    "| :--- | :-- | --- |  --- |\n",
    "|   1 |  2  |  3  |  4  |\n",
    "|   5 |  6  |  7  |  8  |"
   ]
  },
  {
   "cell_type": "code",
   "execution_count": null,
   "id": "f279e186",
   "metadata": {},
   "outputs": [],
   "source": []
  }
 ],
 "metadata": {
  "kernelspec": {
   "display_name": "Python 3 (ipykernel)",
   "language": "python",
   "name": "python3"
  },
  "language_info": {
   "codemirror_mode": {
    "name": "ipython",
    "version": 3
   },
   "file_extension": ".py",
   "mimetype": "text/x-python",
   "name": "python",
   "nbconvert_exporter": "python",
   "pygments_lexer": "ipython3",
   "version": "3.9.6"
  }
 },
 "nbformat": 4,
 "nbformat_minor": 5
}
