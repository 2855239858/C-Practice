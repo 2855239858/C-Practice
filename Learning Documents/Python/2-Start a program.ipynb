{
 "cells": [
  {
   "cell_type": "markdown",
   "id": "089325dc",
   "metadata": {},
   "source": [
    "# Start a Program\n",
    "\n",
    "### Standard process:\n",
    "\n",
    "1. Explain the problem.\n",
    "2. Define what to do.\n",
    "3. Design the details of program.\n",
    "4. Implement the designs.\n",
    "5. Test and debug the program.\n",
    "6. Maintain the program.\n",
    "\n",
    "### Keywords: the name of self-defined variants and classes should not conflict with these keywords.\n",
    "\n",
    "| 1 | 2 | 3 | 4 | 5 |\n",
    "| :-- | :-- | :-- | :-- | :-- |\n",
    "| False | class | finally | is | return |\n",
    "| None | continue | for | lambda | try |\n",
    "| True | def | from | nonlocal | while |\n",
    "| and | del | global | not | with |\n",
    "| as | elif | if | or | yield |\n",
    "| assert | else | import | pass |  |\n",
    "| break | except | in | raise ||"
   ]
  },
  {
   "cell_type": "markdown",
   "id": "ce6800b3",
   "metadata": {},
   "source": [
    "#### \"+\"\n",
    "\n",
    "When \"+\" is used by string, it means to combine the two string."
   ]
  },
  {
   "cell_type": "code",
   "execution_count": 1,
   "id": "e045ec32",
   "metadata": {},
   "outputs": [
    {
     "name": "stdout",
     "output_type": "stream",
     "text": [
      "3\n",
      "12\n"
     ]
    }
   ],
   "source": [
    "print(1 + 2)\n",
    "print(\"1\" + \"2\")"
   ]
  },
  {
   "cell_type": "markdown",
   "id": "a71c8ed5",
   "metadata": {},
   "source": [
    "## print()\n",
    "\n",
    "print(..., ..., ..., ..., end = \"xxx\")\n",
    "\n",
    "end = \"xxx\" : replace the end char of print, default is '/n'."
   ]
  },
  {
   "cell_type": "code",
   "execution_count": 12,
   "id": "8370beab",
   "metadata": {},
   "outputs": [
    {
     "name": "stdout",
     "output_type": "stream",
     "text": [
      "Who are u?\n",
      "\n",
      "Who are u? Mike"
     ]
    }
   ],
   "source": [
    "print(\"Who are u?\")\n",
    "print()\n",
    "print(\"Who are u?\", end = \" Mike\")"
   ]
  },
  {
   "cell_type": "markdown",
   "id": "6ad5d04f",
   "metadata": {},
   "source": [
    "## input()\n",
    "\n",
    "Stop program and wait for typing in something.\n",
    "\n",
    "## eval()\n",
    "\n",
    "1. Tranfer a string to value, but the string must represent a value.\n",
    "2. eval() also can tranfer a string to an expression."
   ]
  },
  {
   "cell_type": "code",
   "execution_count": 8,
   "id": "606ea2e3",
   "metadata": {},
   "outputs": [
    {
     "name": "stdout",
     "output_type": "stream",
     "text": [
      "Type in something.1 + 2 * 3\n",
      "1 + 2 * 3\n",
      "7\n"
     ]
    }
   ],
   "source": [
    "x = input(\"Type in something.\")\n",
    "y = eval(x)\n",
    "\n",
    "print(x)\n",
    "print(y)"
   ]
  },
  {
   "cell_type": "markdown",
   "id": "f322ce0c",
   "metadata": {},
   "source": [
    "# Assign values at the same time\n",
    "\n",
    "var1, var2, var3, ..., varn = expr1, expr2, expr3, ..., exprn\n",
    "\n",
    "1. x, y = y, x : change the value of x and y.\n",
    "2. x, y = eval(input(\"Type in two numbers with ',' to seperate.\")) : input two numbers at the same time.\n",
    "3. None value input cann't be getted at the same time (2.), eg: \"This is inputs\""
   ]
  },
  {
   "cell_type": "code",
   "execution_count": 9,
   "id": "f4318d94",
   "metadata": {},
   "outputs": [
    {
     "name": "stdout",
     "output_type": "stream",
     "text": [
      "Type in two numbers at the same time: 23, 56\n",
      "x is:  23 y is:  56\n",
      "x is:  56 y is:  23\n"
     ]
    }
   ],
   "source": [
    "x, y = eval(input(\"Type in two numbers at the same time: \"))\n",
    "print(\"x is: \", x, \"y is: \", y)\n",
    "\n",
    "x, y = y, x\n",
    "print(\"x is: \", x, \"y is: \", y)"
   ]
  },
  {
   "cell_type": "code",
   "execution_count": null,
   "id": "c23bbe2e",
   "metadata": {},
   "outputs": [],
   "source": []
  }
 ],
 "metadata": {
  "kernelspec": {
   "display_name": "Python 3 (ipykernel)",
   "language": "python",
   "name": "python3"
  },
  "language_info": {
   "codemirror_mode": {
    "name": "ipython",
    "version": 3
   },
   "file_extension": ".py",
   "mimetype": "text/x-python",
   "name": "python",
   "nbconvert_exporter": "python",
   "pygments_lexer": "ipython3",
   "version": "3.9.6"
  }
 },
 "nbformat": 4,
 "nbformat_minor": 5
}
