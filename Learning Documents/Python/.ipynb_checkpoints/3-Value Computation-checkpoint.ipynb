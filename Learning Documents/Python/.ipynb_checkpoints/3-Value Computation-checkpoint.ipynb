{
 "cells": [
  {
   "cell_type": "markdown",
   "id": "bc96378c",
   "metadata": {},
   "source": [
    "# 3-Value Computation\n",
    "\n",
    "## 1. type()\n",
    "\n",
    "Get a variant's or value's type."
   ]
  },
  {
   "cell_type": "code",
   "execution_count": 17,
   "id": "7fb7c026",
   "metadata": {},
   "outputs": [
    {
     "name": "stdout",
     "output_type": "stream",
     "text": [
      "<class 'int'>\n",
      "<class 'float'>\n",
      "<class 'str'>\n",
      "<class 'type'>\n"
     ]
    }
   ],
   "source": [
    "x = 3\n",
    "y = 3.0\n",
    "z = \"3.0\"\n",
    "\n",
    "print(type(x))\n",
    "print(type(y))\n",
    "h = type(z)\n",
    "print(h)\n",
    "print(type(h))"
   ]
  },
  {
   "cell_type": "markdown",
   "id": "f0701763",
   "metadata": {},
   "source": [
    "## 2. **, abs(), //\n",
    "\n",
    "1. ** : power\n",
    "\n",
    "2. abs() : absolute value\n",
    "\n",
    "3. // : integer division"
   ]
  },
  {
   "cell_type": "code",
   "execution_count": 11,
   "id": "c9bcbfdf",
   "metadata": {},
   "outputs": [
    {
     "name": "stdout",
     "output_type": "stream",
     "text": [
      "8\n",
      "11.313708498984761\n",
      "3\n",
      "1.5\n",
      "1\n",
      "1.0\n",
      "1\n",
      "1.0\n"
     ]
    }
   ],
   "source": [
    "print(2 ** 3)\n",
    "print(2 ** 3.5)\n",
    "print(abs(-3))\n",
    "print(3/2)\n",
    "\n",
    "## the return type of '/' and '%' depends on the type of operate value\n",
    "print(3//2)\n",
    "print(3.0//2)\n",
    "print(3%2)\n",
    "print(3.0%2)"
   ]
  },
  {
   "cell_type": "markdown",
   "id": "c78e0bc7",
   "metadata": {},
   "source": [
    "## 3. int(), ..., round()\n",
    "\n",
    "1. int(), float(), .... : tranfer a value to target type mandatorily.\n",
    "\n",
    "2. __str can also be tranfer to value, but need to be the right form__\n",
    "\n",
    "2. round(x, y) : x is the number needed to round, y means round to which decimal digit. "
   ]
  },
  {
   "cell_type": "code",
   "execution_count": 21,
   "id": "3bd2bffe",
   "metadata": {},
   "outputs": [
    {
     "name": "stdout",
     "output_type": "stream",
     "text": [
      "1.  3\n",
      "2.  3.0\n",
      "3.  3\n",
      "4.  3.0\n",
      "5.  3.0\n",
      "6.  3\n",
      "7.  3.0\n",
      "8.  4\n",
      "9.  3.57\n"
     ]
    }
   ],
   "source": [
    "print(\"1. \", int(3.5))\n",
    "print(\"2. \", float(3))\n",
    "print(\"3. \", str(3))\n",
    "print(\"4. \", str(3.0))\n",
    "print(\"5. \", str(3.00))\n",
    "\n",
    "print(\"6. \", int(\"3\"))\n",
    "print(\"7. \", float(\"3.0\"))\n",
    "\n",
    "print(\"8. \", round(3.5))\n",
    "print(\"9. \", round(3.5678, 2))"
   ]
  },
  {
   "cell_type": "markdown",
   "id": "b77bd3bd",
   "metadata": {},
   "source": [
    "## 4. How float stored in memory.\n",
    "\n",
    "__Float is not accurate, but approximately stored in memory.__\n",
    "\n",
    "For example, if a float appears to us is 3.14, the accurate value of this float in memory may is 3.1400000000124345, etc."
   ]
  },
  {
   "cell_type": "markdown",
   "id": "0873ffed",
   "metadata": {},
   "source": [
    "## 5. \"math\" library\n",
    "\n",
    "Some important function of \"math\"\n",
    "\n",
    "| Python | Math | Description |\n",
    "| :-- | :-- | :-- |\n",
    "| pi | pi | ... |\n",
    "| e | e | ... |\n",
    "| sqrt(x) | ... | the square root of 2 |\n",
    "| sin(x) | ... | ... |\n",
    "| cos(x) | ... | ... |\n",
    "| tan(x) | ... | ... |\n",
    "| asin(x) | arcsin x | ... |\n",
    "| acos(x) | arcos x | ... |\n",
    "| atan(x) | arctan x | ... |\n",
    "| log(x) | ln x | ... |\n",
    "| log10(x) | log10 x | ... |\n",
    "| exp(x) | e ** x | e powers x |\n",
    "| ceil(x) | [ x ] | the minimum integer less than x |\n",
    "| floor(x) | [ x ] | the max integer bigger than x |"
   ]
  },
  {
   "cell_type": "markdown",
   "id": "9dad8ecc",
   "metadata": {},
   "source": [
    "## 6. range(start, n, step)\n",
    "\n",
    "1. start: range from \"start\".\n",
    "\n",
    "2. n: the final number of range, not include n.\n",
    "\n",
    "3. step: the gap between each number."
   ]
  },
  {
   "cell_type": "code",
   "execution_count": 31,
   "id": "711db47d",
   "metadata": {},
   "outputs": [
    {
     "name": "stdout",
     "output_type": "stream",
     "text": [
      "1.  [0, 1, 2, 3, 4, 5, 6, 7, 8, 9]\n",
      "2.  [5, 6, 7, 8, 9]\n",
      "3.  [5, 7, 9]\n",
      "4.  [10, 9, 8, 7, 6]\n"
     ]
    }
   ],
   "source": [
    "x = list(range(10))\n",
    "y = list(range(5, 10))\n",
    "z = list(range(5, 10, 2))\n",
    "\n",
    "print(\"1. \", x)\n",
    "print(\"2. \", y)\n",
    "print(\"3. \", z)\n",
    "\n",
    "h = list(range(10, 5, -1))\n",
    "print(\"4. \", h)"
   ]
  },
  {
   "cell_type": "code",
   "execution_count": null,
   "id": "6c3172db",
   "metadata": {},
   "outputs": [],
   "source": []
  }
 ],
 "metadata": {
  "kernelspec": {
   "display_name": "Python 3 (ipykernel)",
   "language": "python",
   "name": "python3"
  },
  "language_info": {
   "codemirror_mode": {
    "name": "ipython",
    "version": 3
   },
   "file_extension": ".py",
   "mimetype": "text/x-python",
   "name": "python",
   "nbconvert_exporter": "python",
   "pygments_lexer": "ipython3",
   "version": "3.9.6"
  }
 },
 "nbformat": 4,
 "nbformat_minor": 5
}
