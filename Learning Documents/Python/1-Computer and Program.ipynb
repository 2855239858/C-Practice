{
 "cells": [
  {
   "cell_type": "markdown",
   "id": "9fdfd635",
   "metadata": {},
   "source": [
    "# Computer and program"
   ]
  },
  {
   "cell_type": "markdown",
   "id": "1d293c3a",
   "metadata": {},
   "source": [
    "__1. eval()__\n",
    "\n",
    "A very powerful but dangerous function, remember use it carefully.\n",
    "\n",
    "  1. Transfer a string num to a value num: \"12\" --> 12]\n",
    "  \n",
    "  2. Transfer a string expression to an expression: \"1 + 2 * 3\" --> 1 + 2 * 3"
   ]
  },
  {
   "cell_type": "code",
   "execution_count": 1,
   "id": "07b026ed",
   "metadata": {},
   "outputs": [
    {
     "name": "stdout",
     "output_type": "stream",
     "text": [
      "i is:  12\n",
      "j is:  7\n"
     ]
    }
   ],
   "source": [
    "i = eval(\"12\")\n",
    "j = eval(\"1 + 2 * 3\")\n",
    "print(\"i is: \", i)\n",
    "print(\"j is: \", j)"
   ]
  },
  {
   "cell_type": "markdown",
   "id": "546d26ed",
   "metadata": {},
   "source": [
    "## Practice"
   ]
  },
  {
   "cell_type": "code",
   "execution_count": 2,
   "id": "ee9556c2",
   "metadata": {},
   "outputs": [
    {
     "name": "stdout",
     "output_type": "stream",
     "text": [
      "Hello, world!\n",
      "Hello world!\n",
      "3\n",
      "3.0\n",
      "5\n",
      "5.0\n",
      "23\n",
      "2 + 3 =  5\n",
      "6\n",
      "8\n",
      "2.3333333333333335\n",
      "2\n"
     ]
    }
   ],
   "source": [
    "print(\"Hello, world!\")\n",
    "print(\"Hello\", \"world!\")\n",
    "print(3)\n",
    "print(3.0)\n",
    "print(2 + 3)\n",
    "print(2.0 + 3.0)\n",
    "print(\"2\" + \"3\")\n",
    "print(\"2 + 3 = \", 2 + 3)\n",
    "print(2 * 3)\n",
    "print(2 ** 3)\n",
    "print(7 / 3)\n",
    "print(7 // 3)"
   ]
  },
  {
   "cell_type": "code",
   "execution_count": 3,
   "id": "613751c3",
   "metadata": {},
   "outputs": [
    {
     "name": "stdout",
     "output_type": "stream",
     "text": [
      "The program illustrating chaotic funtion\n",
      "Enter a number between o and 1: 1\n",
      "0.0\n",
      "0.0\n",
      "0.0\n",
      "0.0\n",
      "0.0\n",
      "0.0\n",
      "0.0\n",
      "0.0\n",
      "0.0\n",
      "0.0\n"
     ]
    }
   ],
   "source": [
    "## chaos.py\n",
    "\n",
    "print(\"The program illustrating chaotic funtion\")\n",
    "x = eval(input(\"Enter a number between o and 1: \"))\n",
    "for i in range(10):\n",
    "    x = 3.9 * x * (1 - x)\n",
    "    print(x)"
   ]
  },
  {
   "cell_type": "code",
   "execution_count": 4,
   "id": "edeea7e6",
   "metadata": {},
   "outputs": [
    {
     "name": "stdout",
     "output_type": "stream",
     "text": [
      "The program illustrating chaotic funtion\n",
      "Enter two numbers between o and 1 (using ',' to seperate): .5,.8\n",
      "Inputs   0.5    0.8 \n",
      "------------------\n",
      "       0.975    0.6239999999999999\n",
      "       0.09506250000000008    0.9150336\n",
      "       0.33549992226562525    0.303213732397056\n",
      "       0.8694649252590003    0.8239731430433197\n",
      "       0.44263310911310905    0.5656614700878675\n",
      "       0.962165255336889    0.9581854282490104\n",
      "       0.1419727793616139    0.1562578420270566\n",
      "       0.4750843861996143    0.5141811824452056\n",
      "       0.9725789275369049    0.9742156868513775\n",
      "       0.1040097132674683    0.09796598114189749\n"
     ]
    }
   ],
   "source": [
    "## advance_chaos.py\n",
    "\n",
    "print(\"The program illustrating chaotic funtion\")\n",
    "num1, num2 = eval(input(\"Enter two numbers between o and 1 (using ',' to seperate): \"))\n",
    "print(\"Inputs  \", num1, \"  \", num2, \"\")\n",
    "print(\"------------------\")\n",
    "for i in range(10):\n",
    "    num1 = 3.9 * num1 * (1 - num1)\n",
    "    num2 = 3.9 * num2 * (1 - num2)\n",
    "    print(\"      \", num1, \"  \", num2)"
   ]
  }
 ],
 "metadata": {
  "kernelspec": {
   "display_name": "Python 3 (ipykernel)",
   "language": "python",
   "name": "python3"
  },
  "language_info": {
   "codemirror_mode": {
    "name": "ipython",
    "version": 3
   },
   "file_extension": ".py",
   "mimetype": "text/x-python",
   "name": "python",
   "nbconvert_exporter": "python",
   "pygments_lexer": "ipython3",
   "version": "3.9.6"
  }
 },
 "nbformat": 4,
 "nbformat_minor": 5
}
